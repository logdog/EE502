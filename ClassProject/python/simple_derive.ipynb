{
 "cells": [
  {
   "cell_type": "code",
   "execution_count": 2,
   "metadata": {},
   "outputs": [],
   "source": [
    "from sympy import *\n",
    "from sympy.physics.mechanics import *\n",
    "init_vprinting()"
   ]
  },
  {
   "cell_type": "code",
   "execution_count": 12,
   "metadata": {},
   "outputs": [
    {
     "data": {
      "image/png": "[encoded data removed]",
      "text/latex": [
       "$\\displaystyle \\ddot{\\theta} = \\frac{g \\sin{\\left(\\theta \\right)} - \\cos{\\left(\\theta \\right)} \\ddot{x}}{\\ell}$"
      ],
      "text/plain": [
       "    g⋅sin(θ) - cos(θ)⋅ẍ\n",
       "θ̈ = ───────────────────\n",
       "            ell        "
      ]
     },
     "execution_count": 12,
     "metadata": {},
     "output_type": "execute_result"
    }
   ],
   "source": [
    "m, ell, g, t = symbols('m ell g t')\n",
    "x, theta = dynamicsymbols('x theta')\n",
    "\n",
    "px, py = x+ell*sin(theta), ell*cos(theta)\n",
    "vx, vy = diff(px,t), diff(py,t)\n",
    "\n",
    "x_dot = diff(x, t)\n",
    "x_ddot = diff(x_dot, t)\n",
    "\n",
    "theta_dot = diff(theta, t)\n",
    "theta_ddot = diff(theta_dot, t)\n",
    "\n",
    "T = simplify( 1/2*m*(vx**2 + vy**2) )\n",
    "V = m*g*py\n",
    "L = T - V\n",
    "\n",
    "eqn = diff( diff(L, theta_dot), t) - diff(L, theta)\n",
    "eqn = simplify(eqn)\n",
    "sln = solve(eqn,theta_ddot)[0]\n",
    "Eq(theta_ddot, sln)"
   ]
  },
  {
   "cell_type": "code",
   "execution_count": 13,
   "metadata": {},
   "outputs": [
    {
     "data": {
      "image/png": "[encoded data removed]",
      "text/latex": [
       "$\\displaystyle \\ddot{x} = \\frac{\\ell \\dot{\\theta}^{2} - g \\cos{\\left(\\theta \\right)}}{\\sin{\\left(\\theta \\right)}}$"
      ],
      "text/plain": [
       "         2           \n",
       "    ell⋅θ̇  - g⋅cos(θ)\n",
       "ẍ = ─────────────────\n",
       "          sin(θ)     "
      ]
     },
     "execution_count": 13,
     "metadata": {},
     "output_type": "execute_result"
    }
   ],
   "source": [
    "eqn2 = diff( diff(L, x_dot), t) - diff(L, x)\n",
    "eqn2 = simplify(eqn2).subs(theta_ddot, sln)\n",
    "sln2 = solve(eqn2,x_ddot)[0]\n",
    "Eq(x_ddot, sln2)"
   ]
  }
 ],
 "metadata": {
  "kernelspec": {
   "display_name": "Python 3.10.7 64-bit",
   "language": "python",
   "name": "python3"
  },
  "language_info": {
   "codemirror_mode": {
    "name": "ipython",
    "version": 3
   },
   "file_extension": ".py",
   "mimetype": "text/x-python",
   "name": "python",
   "nbconvert_exporter": "python",
   "pygments_lexer": "ipython3",
   "version": "3.10.7"
  },
  "orig_nbformat": 4,
  "vscode": {
   "interpreter": {
    "hash": "9d6144efefa755d1a6f9079aff989e4e8b6496d9c0eed22ec4cb2f226bf88ff8"
   }
  }
 },
 "nbformat": 4,
 "nbformat_minor": 2
}
